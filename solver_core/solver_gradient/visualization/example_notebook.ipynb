{
 "cells": [
  {
   "cell_type": "code",
   "execution_count": 3,
   "id": "a3c0323a",
   "metadata": {},
   "outputs": [],
   "source": [
    "import os \n",
    "import sys\n",
    "sys.path.insert(0, os.path.abspath('..'))"
   ]
  },
  {
   "cell_type": "code",
   "execution_count": 7,
   "id": "7dae2e89",
   "metadata": {},
   "outputs": [],
   "source": [
    "from visualizer import animated_surface\n",
    "from gradient_descent_const import GradientDescentConst"
   ]
  },
  {
   "cell_type": "code",
   "execution_count": 9,
   "id": "8a052151",
   "metadata": {},
   "outputs": [],
   "source": [
    "import numpy as np"
   ]
  },
  {
   "cell_type": "code",
   "execution_count": 11,
   "id": "6624199a",
   "metadata": {},
   "outputs": [],
   "source": [
    "func = lambda x: x[0] ** 2 + x[1] ** 2\n",
    "gradient = lambda z, x: np.array([2 * x[0], 2 * x[1]])\n",
    "point = [5, 5]\n",
    "task = GradientDescentConst(function=func, gradient=gradient, started_point=point, save_iters_df=True)\n",
    "answer = task.solve()\n",
    "\n",
    "animated_surface(func, task.history)"
   ]
  },
  {
   "cell_type": "code",
   "execution_count": null,
   "id": "467a08d7",
   "metadata": {},
   "outputs": [],
   "source": []
  }
 ],
 "metadata": {
  "kernelspec": {
   "display_name": "Python 3 (ipykernel)",
   "language": "python",
   "name": "python3"
  },
  "language_info": {
   "codemirror_mode": {
    "name": "ipython",
    "version": 3
   },
   "file_extension": ".py",
   "mimetype": "text/x-python",
   "name": "python",
   "nbconvert_exporter": "python",
   "pygments_lexer": "ipython3",
   "version": "3.9.7"
  }
 },
 "nbformat": 4,
 "nbformat_minor": 5
}
